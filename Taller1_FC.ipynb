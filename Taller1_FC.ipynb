{
  "nbformat": 4,
  "nbformat_minor": 0,
  "metadata": {
    "colab": {
      "private_outputs": true,
      "provenance": [],
      "collapsed_sections": [
        "pcfEdaxYdsiL"
      ]
    },
    "kernelspec": {
      "name": "python3",
      "display_name": "Python 3"
    },
    "language_info": {
      "name": "python"
    }
  },
  "cells": [
    {
      "cell_type": "markdown",
      "source": [
        "\n",
        "\n",
        "*   **Creador:** Juan Diego Cuadros Rodriguez\n",
        "\n"
      ],
      "metadata": {
        "id": "zpCpxYxtplnh"
      }
    },
    {
      "cell_type": "markdown",
      "source": [
        "### Punto 1"
      ],
      "metadata": {
        "id": "QY1vRQok3Zy0"
      }
    },
    {
      "cell_type": "code",
      "source": [
        "!pip install --quiet yfinance"
      ],
      "metadata": {
        "id": "DLSlH14GjFXk"
      },
      "execution_count": null,
      "outputs": []
    },
    {
      "cell_type": "code",
      "source": [
        "import pandas_datareader.data as web\n",
        "import pandas as pd\n",
        "import numpy as np\n",
        "import datetime\n",
        "import matplotlib.pyplot as plt"
      ],
      "metadata": {
        "id": "3Avl9AlYaIY-"
      },
      "execution_count": null,
      "outputs": []
    },
    {
      "cell_type": "code",
      "source": [
        "import yfinance as yf"
      ],
      "metadata": {
        "id": "_6-BEVbKjJqG"
      },
      "execution_count": null,
      "outputs": []
    },
    {
      "cell_type": "code",
      "source": [
        "# Importamos los activos que vamos a análizar, con la fecha de iniciio de la \n",
        "# fecha de inicio de la serie y la final\n",
        "assets = ['GS','BIIB']\n",
        "start = \"2021-01-01\"\n",
        "end = \"2022-12-31\""
      ],
      "metadata": {
        "id": "V7D4l82WbAjU"
      },
      "execution_count": null,
      "outputs": []
    },
    {
      "cell_type": "code",
      "source": [
        "yf.pdr_override() # este proceso se hace con el fin de que DataReader tome la estructura de yfinance\n",
        "#Importamos los datos diarios\n",
        "data_daily=web.DataReader(assets,start,end)['Adj Close'] \n",
        "# Importamos los datos mensuales\n",
        "data_mo = web.DataReader(assets,start= start, end=end, interval='1Mo')['Adj Close']\n",
        "data_mo"
      ],
      "metadata": {
        "id": "RypD2oT6aWne"
      },
      "execution_count": null,
      "outputs": []
    },
    {
      "cell_type": "code",
      "source": [
        "# Calculamos los logaritmos diarios, mensuales y anuales\n",
        "ret_daily = np.log(data_daily/data_daily.shift(1)).dropna()\n",
        "ret_mon = np.log(data_mo/data_mo.shift(1)).dropna()\n",
        "re_anu = ret_mon * 12\n",
        "ret_anual = re_anu.mean()"
      ],
      "metadata": {
        "id": "osfMcOTOipVc"
      },
      "execution_count": null,
      "outputs": []
    },
    {
      "cell_type": "code",
      "source": [
        "# Tabla resumen\n",
        "tabla = pd.DataFrame([ret_daily.mean(),ret_mon.mean(),ret_anual],index={'Retorno diario','Retorno mensual','Retorno anual'})\n",
        "tabla"
      ],
      "metadata": {
        "id": "zYJKqZPicWjg"
      },
      "execution_count": null,
      "outputs": []
    },
    {
      "cell_type": "code",
      "source": [
        "# Retorno medio anualizado\n",
        "ret_anual"
      ],
      "metadata": {
        "id": "Xu0q-u5Bk0Sm"
      },
      "execution_count": null,
      "outputs": []
    },
    {
      "cell_type": "code",
      "source": [
        "# Volatilidad Anual\n",
        "vol = ret_mon.std() * np.sqrt(12)\n",
        "vol"
      ],
      "metadata": {
        "id": "7lzhDC_xk6Vu"
      },
      "execution_count": null,
      "outputs": []
    },
    {
      "cell_type": "code",
      "source": [
        "# tabla de datos en estadistica descriptiva\n",
        "# Retornos diarios esperado\n",
        "ret_med_daily = ret_daily.mean()\n",
        "vol_daily = ret_daily.std()\n",
        "median_daily = ret_daily.median()\n",
        "kurt_ret_daily = ret_daily.kurtosis()\n",
        "skw_ret_daily = ret_daily.skew()\n",
        "\n",
        "data2=[median_daily,ret_med_daily,vol_daily,skw_ret_daily,kurt_ret_daily]\n",
        "index={\"E(r)\",\"Vol(r)\",\"Med(r)\",\"Kurt\",\"Skew\"}"
      ],
      "metadata": {
        "id": "Kb1gNaFRnnyX"
      },
      "execution_count": null,
      "outputs": []
    },
    {
      "cell_type": "code",
      "source": [
        "total_summary = pd.DataFrame(data2,index)\n",
        "total_summary"
      ],
      "metadata": {
        "id": "VbeZ0zJHlwIJ"
      },
      "execution_count": null,
      "outputs": []
    },
    {
      "cell_type": "code",
      "source": [
        "from scipy.stats import norm\n",
        "x = np.linspace(-0.1,0.1,num=1000)\n",
        "plt.hist(ret_daily['BIIB'],bins=20,density=True,histtype='step')\n",
        "plt.ylabel('Retornos')\n",
        "plt.xlabel('Probabilidades')\n",
        "plt.plot(x,norm.pdf(x,scale=ret_daily['BIIB'].std()),'k')\n",
        "plt.axvline(ret_daily['BIIB'].mean(),color='r');\n",
        "plt.show()"
      ],
      "metadata": {
        "id": "CGjC8wRztBqq"
      },
      "execution_count": null,
      "outputs": []
    },
    {
      "cell_type": "markdown",
      "source": [
        "\n",
        "\n",
        "*  La distribución los retornos de Biogin tiene un sesgo positivo, debido a que presenta un outlier mayor a 0.3\n",
        "*  La distribución de los datos de Biogen tienen un exceso de curtosis, por lo tanto la distribución es leptocurtica\n",
        "*  De esta manera los datos tienden a su media y, asimismo, tiene mayor probabilidad de caer en los extremos\n",
        "\n"
      ],
      "metadata": {
        "id": "Gkmpd8LLF_PG"
      }
    },
    {
      "cell_type": "code",
      "source": [
        "x = np.linspace(-0.1,0.1,num=1000)\n",
        "plt.hist(ret_daily['GS'],bins=20,density=True,histtype='step')\n",
        "plt.ylabel('Retornos')\n",
        "plt.xlabel('Probabilidades')\n",
        "plt.plot(x,norm.pdf(x,scale=ret_daily['GS'].std()),'k')\n",
        "plt.axvline(ret_daily['GS'].mean(),color='r');\n",
        "plt.show()"
      ],
      "metadata": {
        "id": "9c1owJF71AWU"
      },
      "execution_count": null,
      "outputs": []
    },
    {
      "cell_type": "markdown",
      "source": [
        "\n",
        "\n",
        "*  La distribución no tiene sesgos significativos en la parte positiva o negativa\n",
        "*  La distribución no presenta outliers\n",
        "*  Asimismo, la distribución presenta una kurtosis mayor a cero, por lo tanto, sigue una distribución leptokurtica\n",
        "\n"
      ],
      "metadata": {
        "id": "FwxKtzMZHnJ-"
      }
    },
    {
      "cell_type": "code",
      "source": [
        "# Calculamos la matriz de correlación de Pearson\n",
        "ret_daily.corr()"
      ],
      "metadata": {
        "id": "PuTSU6lJ3J_U"
      },
      "execution_count": null,
      "outputs": []
    },
    {
      "cell_type": "markdown",
      "source": [
        "Segun la correlación de Person, los dos activos tienen correlación positiva; sin embargo, debido a ciertos outliers, el coeficiente es alterado"
      ],
      "metadata": {
        "id": "JyBti1xuqs9F"
      }
    },
    {
      "cell_type": "code",
      "source": [
        "# Calculamos la matriz de correlación de Kendall\n",
        "ret_daily.corr(method='kendall')"
      ],
      "metadata": {
        "id": "lH_McvJB3Q_s"
      },
      "execution_count": null,
      "outputs": []
    },
    {
      "cell_type": "markdown",
      "source": [
        "Segun la correlación de Rango de Kendall la concordancia que tienen los\n",
        "activos es menor, por lo tanto, sus movimientos que siguen entre sí\n",
        "Diferen más entre ellos"
      ],
      "metadata": {
        "id": "Wsrr_IKOqTnP"
      }
    },
    {
      "cell_type": "code",
      "source": [
        "# Calculamos la correlación de Spearman\n",
        "ret_daily.corr(method='spearman')"
      ],
      "metadata": {
        "id": "C05zQWra4SwW"
      },
      "execution_count": null,
      "outputs": []
    },
    {
      "cell_type": "markdown",
      "source": [
        "A partir de este resultado, se puede concluir que los datos con base es la diferencia de sus retornos tienen mayor relación, por lo tanto, tienen correlación positiva, más alta que los demás"
      ],
      "metadata": {
        "id": "cFYmHsKmrq2G"
      }
    },
    {
      "cell_type": "markdown",
      "source": [
        "### Punto 2"
      ],
      "metadata": {
        "id": "pcfEdaxYdsiL"
      }
    },
    {
      "cell_type": "code",
      "source": [
        "ticker = ['GS','JPM','TSLA','AAPL','MSFT','C','BIIB','JNJ','F','NVDA']\n",
        "start = '2017-12-31'\n",
        "end = '2022-12-31'"
      ],
      "metadata": {
        "id": "uaOiCA1im9UD"
      },
      "execution_count": null,
      "outputs": []
    },
    {
      "cell_type": "code",
      "source": [
        "shares = yf.download(ticker,start=start,end=end,interval='1Mo')['Adj Close']\n",
        "returns = np.log(shares/shares.shift(1)).dropna()"
      ],
      "metadata": {
        "id": "hpL24-7InqAL"
      },
      "execution_count": null,
      "outputs": []
    },
    {
      "cell_type": "code",
      "source": [
        "e_r = returns.mean().sort_values(ascending=False)\n",
        "e_v = returns.std().sort_values(ascending=False)\n",
        "e_r\n",
        "e_v"
      ],
      "metadata": {
        "id": "7gZ5j49DqXfj"
      },
      "execution_count": null,
      "outputs": []
    },
    {
      "cell_type": "code",
      "source": [
        "ind={'Volatility','return'}"
      ],
      "metadata": {
        "id": "h7ZBd_7u-TJm"
      },
      "execution_count": null,
      "outputs": []
    },
    {
      "cell_type": "code",
      "source": [
        "df1=pd.DataFrame([e_r,e_v],index=ind)"
      ],
      "metadata": {
        "id": "Y0YHTZLrtTZW"
      },
      "execution_count": null,
      "outputs": []
    },
    {
      "cell_type": "code",
      "source": [
        "# Segun lo \n",
        "df1"
      ],
      "metadata": {
        "id": "tFv9aRc7_oDQ"
      },
      "execution_count": null,
      "outputs": []
    },
    {
      "cell_type": "markdown",
      "source": [
        "### Punto 3"
      ],
      "metadata": {
        "id": "-ev2HePLXbbQ"
      }
    },
    {
      "cell_type": "code",
      "source": [
        "# Obtenemos los datos pertinentes\n",
        "index='^RUT'\n",
        "start = '2011-12-31'\n",
        "end = '2022-12-31'\n",
        "yf.pdr_override()\n",
        "ind = web.DataReader(index,start,end,interval='1Mo')\n",
        "ind"
      ],
      "metadata": {
        "id": "SVR-eIbS6AO_"
      },
      "execution_count": null,
      "outputs": []
    },
    {
      "cell_type": "markdown",
      "source": [
        "**Desviación Estandar**"
      ],
      "metadata": {
        "id": "5jrmZaqtZZvH"
      }
    },
    {
      "cell_type": "code",
      "source": [
        "# Obtenemos los retornos mensualess y luego de ello aplicamos el metodo para encontrar la \n",
        "# desviación estandar, mensual\n",
        "returns1 = np.log(ind['Adj Close']/ind['Adj Close'].shift(1)).dropna()\n",
        "vol_cc_m = returns1.std()\n",
        "# Luego de ello, anualizamos la desviación estandar con la raiz del numero de meses\n",
        "vol_cc_a = vol_cc_m*np.sqrt(12)"
      ],
      "metadata": {
        "id": "fKwd9Cup80xQ"
      },
      "execution_count": null,
      "outputs": []
    },
    {
      "cell_type": "code",
      "source": [
        "# la desviación no es constante en el tiempo\n",
        "sig_r = returns1.rolling(window=12).std()\n",
        "sig_r.plot()"
      ],
      "metadata": {
        "id": "pJgBtD_K2agC"
      },
      "execution_count": null,
      "outputs": []
    },
    {
      "cell_type": "code",
      "source": [
        "# Desviación estandar mensual\n",
        "vol_cc_m"
      ],
      "metadata": {
        "id": "3kSdrPka9zUJ"
      },
      "execution_count": null,
      "outputs": []
    },
    {
      "cell_type": "markdown",
      "source": [
        "La volatilidad media mensual es de 0.05469066\n",
        "\n",
        "```\n",
        "# Tiene formato de código\n",
        "```\n",
        "\n"
      ],
      "metadata": {
        "id": "QRdoxZeV0zFu"
      }
    },
    {
      "cell_type": "code",
      "source": [
        "# Desviación estandar anualizada\n",
        "vol_cc_a"
      ],
      "metadata": {
        "id": "vkNG-dNI906y"
      },
      "execution_count": null,
      "outputs": []
    },
    {
      "cell_type": "markdown",
      "source": [
        "La volatilidad anual del indice es 0.189454, no obstante, no refleja la variabilidad real de los datos, debido a que no es constate"
      ],
      "metadata": {
        "id": "xXaGnuXK1Ub9"
      }
    },
    {
      "cell_type": "markdown",
      "source": [
        "**Volatilidad de Parkinson**"
      ],
      "metadata": {
        "id": "7wI1bvA15PDR"
      }
    },
    {
      "cell_type": "code",
      "source": [
        "# Función para realizar la volatilidad de Parkinson \n",
        "def vol_park(stock):\n",
        "  lnhl = np.log(stock['High']/stock['Low']).dropna()\n",
        "  sigmapark_m = (((1/(4*np.log(2)))*lnhl**2)**0.5).mean()\n",
        "  return(sigmapark_m)"
      ],
      "metadata": {
        "id": "lzuPZ3w6-a1v"
      },
      "execution_count": null,
      "outputs": []
    },
    {
      "cell_type": "code",
      "source": [
        "# Volatilidad de Parkinson mensual\n",
        "vol_park(ind)"
      ],
      "metadata": {
        "id": "o2YBCM2I_jbK"
      },
      "execution_count": null,
      "outputs": []
    },
    {
      "cell_type": "code",
      "source": [
        "# Volatilidad de Parkinson anualizada\n",
        "vol_park(ind)*np.sqrt(12)"
      ],
      "metadata": {
        "id": "XHFnCUgz_rgE"
      },
      "execution_count": null,
      "outputs": []
    },
    {
      "cell_type": "markdown",
      "source": [
        "La volatilidad de Parkinson es explicada por la diferencia entre el precio de más alto y más bajo, por lo tanto, el resultado de 0.177025 indica que la volatilidad presentada entrer los precios es menor"
      ],
      "metadata": {
        "id": "-axpxrfj3u7f"
      }
    },
    {
      "cell_type": "markdown",
      "source": [
        "**Volatilidad de Garman-Klass**"
      ],
      "metadata": {
        "id": "3DUP4qKPZWGF"
      }
    },
    {
      "cell_type": "code",
      "source": [
        "# Función para realizar la volatilidad de Garman-Klass mensual\n",
        "def vol_gk(stock):\n",
        "  lnlh=np.log(stock['High']/stock['Low']).dropna()\n",
        "  lnco = np.log(stock['Close']/stock['Open']).dropna()\n",
        "  sigmagk_m = ((0.5*lnlh**2-(2*np.log(2)-1)*lnco**2)**0.5).mean()\n",
        "  return(sigmagk_m)"
      ],
      "metadata": {
        "id": "WxCd6W_VAUpv"
      },
      "execution_count": null,
      "outputs": []
    },
    {
      "cell_type": "code",
      "source": [
        "# Volatilidad de Garman-Klass mensual\n",
        "vol_gk(ind)"
      ],
      "metadata": {
        "id": "C8mLrxmxBL52"
      },
      "execution_count": null,
      "outputs": []
    },
    {
      "cell_type": "code",
      "source": [
        "# Volatilidad de Garman-Klass anual\n",
        "vol_gk(ind)*np.sqrt(12)"
      ],
      "metadata": {
        "id": "-E-3JVJDBPEe"
      },
      "execution_count": null,
      "outputs": []
    },
    {
      "cell_type": "markdown",
      "source": [
        "Analizando los cambios precios entre cierre-apertura y alto-bajo a lo largo de la serie, se puede afirmar que la volatilidad ha sido alta y afectada por la esstacionalidad de estos retornos"
      ],
      "metadata": {
        "id": "8rGOE34DkcH2"
      }
    },
    {
      "cell_type": "markdown",
      "source": [
        "**EWMA**"
      ],
      "metadata": {
        "id": "WFxuTvshaJS5"
      }
    },
    {
      "cell_type": "code",
      "source": [
        "# A traves de esta función se automatizó el proceso para obtener la volatilidad EWMA mensual\n",
        "def ewma_vol(returns_f,l):\n",
        "  k = len(returns_f)\n",
        "  td = np.arange(k-1,-1,-1)\n",
        "  alpha =l**td\n",
        "  var_ewma = ((returns_f**2*alpha).sum())*(1-l)\n",
        "  vol_ewma = np.sqrt(var_ewma)\n",
        "  return(vol_ewma)"
      ],
      "metadata": {
        "id": "UyehIA7cBV4z"
      },
      "execution_count": null,
      "outputs": []
    },
    {
      "cell_type": "code",
      "source": [
        "# Se define que lamda se va a utilizar y con ello, se obtiene la volatilidad EWMA mensual\n",
        "lamda = 0.94\n",
        "ewma_vol(returns1,lamda)"
      ],
      "metadata": {
        "id": "E0x8ThlXCZDf"
      },
      "execution_count": null,
      "outputs": []
    },
    {
      "cell_type": "code",
      "source": [
        "# Obtenemos la Volatilidad EWMA anualizada multiplicada por la raiz de los 12 meses\n",
        "ewma_vol(returns1,lamda)*np.sqrt(12)"
      ],
      "metadata": {
        "id": "xfpPrHfBCleT"
      },
      "execution_count": null,
      "outputs": []
    },
    {
      "cell_type": "markdown",
      "source": [
        "Anteriormente se evidencio que la volatilidad del indice era mayor en el ultimo tiempo. A traves de la volatilidad EWMA anualizada, asignando un mayor peso a los ultimos 30 días, se puede concluir que la volatilidad del indice ha sido mayor que en los demás metodos"
      ],
      "metadata": {
        "id": "R-GbX_32kBso"
      }
    }
  ]
}